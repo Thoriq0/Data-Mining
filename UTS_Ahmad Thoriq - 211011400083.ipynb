{
  "nbformat": 4,
  "nbformat_minor": 0,
  "metadata": {
    "colab": {
      "provenance": []
    },
    "kernelspec": {
      "name": "python3",
      "display_name": "Python 3"
    },
    "language_info": {
      "name": "python"
    }
  },
  "cells": [
    {
      "cell_type": "markdown",
      "source": [
        "# **Ahmad Thoriq - 211011400083**\n",
        "**UTS DATA MINING**"
      ],
      "metadata": {
        "id": "fY23_vpkwzo_"
      }
    },
    {
      "cell_type": "markdown",
      "source": [
        "Import Data"
      ],
      "metadata": {
        "id": "x3ml4G_VxF8L"
      }
    },
    {
      "cell_type": "code",
      "source": [
        "from google.colab import files\n",
        "uploaded = files.upload()"
      ],
      "metadata": {
        "colab": {
          "base_uri": "https://localhost:8080/",
          "height": 73
        },
        "id": "j0uB3v8NxIon",
        "outputId": "ce13f228-a682-4549-b82d-6767d34f38a5"
      },
      "execution_count": 5,
      "outputs": [
        {
          "output_type": "display_data",
          "data": {
            "text/plain": [
              "<IPython.core.display.HTML object>"
            ],
            "text/html": [
              "\n",
              "     <input type=\"file\" id=\"files-61f75f33-e447-4675-b14d-39c467abffae\" name=\"files[]\" multiple disabled\n",
              "        style=\"border:none\" />\n",
              "     <output id=\"result-61f75f33-e447-4675-b14d-39c467abffae\">\n",
              "      Upload widget is only available when the cell has been executed in the\n",
              "      current browser session. Please rerun this cell to enable.\n",
              "      </output>\n",
              "      <script>// Copyright 2017 Google LLC\n",
              "//\n",
              "// Licensed under the Apache License, Version 2.0 (the \"License\");\n",
              "// you may not use this file except in compliance with the License.\n",
              "// You may obtain a copy of the License at\n",
              "//\n",
              "//      http://www.apache.org/licenses/LICENSE-2.0\n",
              "//\n",
              "// Unless required by applicable law or agreed to in writing, software\n",
              "// distributed under the License is distributed on an \"AS IS\" BASIS,\n",
              "// WITHOUT WARRANTIES OR CONDITIONS OF ANY KIND, either express or implied.\n",
              "// See the License for the specific language governing permissions and\n",
              "// limitations under the License.\n",
              "\n",
              "/**\n",
              " * @fileoverview Helpers for google.colab Python module.\n",
              " */\n",
              "(function(scope) {\n",
              "function span(text, styleAttributes = {}) {\n",
              "  const element = document.createElement('span');\n",
              "  element.textContent = text;\n",
              "  for (const key of Object.keys(styleAttributes)) {\n",
              "    element.style[key] = styleAttributes[key];\n",
              "  }\n",
              "  return element;\n",
              "}\n",
              "\n",
              "// Max number of bytes which will be uploaded at a time.\n",
              "const MAX_PAYLOAD_SIZE = 100 * 1024;\n",
              "\n",
              "function _uploadFiles(inputId, outputId) {\n",
              "  const steps = uploadFilesStep(inputId, outputId);\n",
              "  const outputElement = document.getElementById(outputId);\n",
              "  // Cache steps on the outputElement to make it available for the next call\n",
              "  // to uploadFilesContinue from Python.\n",
              "  outputElement.steps = steps;\n",
              "\n",
              "  return _uploadFilesContinue(outputId);\n",
              "}\n",
              "\n",
              "// This is roughly an async generator (not supported in the browser yet),\n",
              "// where there are multiple asynchronous steps and the Python side is going\n",
              "// to poll for completion of each step.\n",
              "// This uses a Promise to block the python side on completion of each step,\n",
              "// then passes the result of the previous step as the input to the next step.\n",
              "function _uploadFilesContinue(outputId) {\n",
              "  const outputElement = document.getElementById(outputId);\n",
              "  const steps = outputElement.steps;\n",
              "\n",
              "  const next = steps.next(outputElement.lastPromiseValue);\n",
              "  return Promise.resolve(next.value.promise).then((value) => {\n",
              "    // Cache the last promise value to make it available to the next\n",
              "    // step of the generator.\n",
              "    outputElement.lastPromiseValue = value;\n",
              "    return next.value.response;\n",
              "  });\n",
              "}\n",
              "\n",
              "/**\n",
              " * Generator function which is called between each async step of the upload\n",
              " * process.\n",
              " * @param {string} inputId Element ID of the input file picker element.\n",
              " * @param {string} outputId Element ID of the output display.\n",
              " * @return {!Iterable<!Object>} Iterable of next steps.\n",
              " */\n",
              "function* uploadFilesStep(inputId, outputId) {\n",
              "  const inputElement = document.getElementById(inputId);\n",
              "  inputElement.disabled = false;\n",
              "\n",
              "  const outputElement = document.getElementById(outputId);\n",
              "  outputElement.innerHTML = '';\n",
              "\n",
              "  const pickedPromise = new Promise((resolve) => {\n",
              "    inputElement.addEventListener('change', (e) => {\n",
              "      resolve(e.target.files);\n",
              "    });\n",
              "  });\n",
              "\n",
              "  const cancel = document.createElement('button');\n",
              "  inputElement.parentElement.appendChild(cancel);\n",
              "  cancel.textContent = 'Cancel upload';\n",
              "  const cancelPromise = new Promise((resolve) => {\n",
              "    cancel.onclick = () => {\n",
              "      resolve(null);\n",
              "    };\n",
              "  });\n",
              "\n",
              "  // Wait for the user to pick the files.\n",
              "  const files = yield {\n",
              "    promise: Promise.race([pickedPromise, cancelPromise]),\n",
              "    response: {\n",
              "      action: 'starting',\n",
              "    }\n",
              "  };\n",
              "\n",
              "  cancel.remove();\n",
              "\n",
              "  // Disable the input element since further picks are not allowed.\n",
              "  inputElement.disabled = true;\n",
              "\n",
              "  if (!files) {\n",
              "    return {\n",
              "      response: {\n",
              "        action: 'complete',\n",
              "      }\n",
              "    };\n",
              "  }\n",
              "\n",
              "  for (const file of files) {\n",
              "    const li = document.createElement('li');\n",
              "    li.append(span(file.name, {fontWeight: 'bold'}));\n",
              "    li.append(span(\n",
              "        `(${file.type || 'n/a'}) - ${file.size} bytes, ` +\n",
              "        `last modified: ${\n",
              "            file.lastModifiedDate ? file.lastModifiedDate.toLocaleDateString() :\n",
              "                                    'n/a'} - `));\n",
              "    const percent = span('0% done');\n",
              "    li.appendChild(percent);\n",
              "\n",
              "    outputElement.appendChild(li);\n",
              "\n",
              "    const fileDataPromise = new Promise((resolve) => {\n",
              "      const reader = new FileReader();\n",
              "      reader.onload = (e) => {\n",
              "        resolve(e.target.result);\n",
              "      };\n",
              "      reader.readAsArrayBuffer(file);\n",
              "    });\n",
              "    // Wait for the data to be ready.\n",
              "    let fileData = yield {\n",
              "      promise: fileDataPromise,\n",
              "      response: {\n",
              "        action: 'continue',\n",
              "      }\n",
              "    };\n",
              "\n",
              "    // Use a chunked sending to avoid message size limits. See b/62115660.\n",
              "    let position = 0;\n",
              "    do {\n",
              "      const length = Math.min(fileData.byteLength - position, MAX_PAYLOAD_SIZE);\n",
              "      const chunk = new Uint8Array(fileData, position, length);\n",
              "      position += length;\n",
              "\n",
              "      const base64 = btoa(String.fromCharCode.apply(null, chunk));\n",
              "      yield {\n",
              "        response: {\n",
              "          action: 'append',\n",
              "          file: file.name,\n",
              "          data: base64,\n",
              "        },\n",
              "      };\n",
              "\n",
              "      let percentDone = fileData.byteLength === 0 ?\n",
              "          100 :\n",
              "          Math.round((position / fileData.byteLength) * 100);\n",
              "      percent.textContent = `${percentDone}% done`;\n",
              "\n",
              "    } while (position < fileData.byteLength);\n",
              "  }\n",
              "\n",
              "  // All done.\n",
              "  yield {\n",
              "    response: {\n",
              "      action: 'complete',\n",
              "    }\n",
              "  };\n",
              "}\n",
              "\n",
              "scope.google = scope.google || {};\n",
              "scope.google.colab = scope.google.colab || {};\n",
              "scope.google.colab._files = {\n",
              "  _uploadFiles,\n",
              "  _uploadFilesContinue,\n",
              "};\n",
              "})(self);\n",
              "</script> "
            ]
          },
          "metadata": {}
        },
        {
          "output_type": "stream",
          "name": "stdout",
          "text": [
            "Saving data_pelanggan.csv to data_pelanggan.csv\n"
          ]
        }
      ]
    },
    {
      "cell_type": "markdown",
      "source": [
        "Deklarasi Variabel df untuk penempatan file, dan penampilan beberapa record"
      ],
      "metadata": {
        "id": "9QS6nCASyA3h"
      }
    },
    {
      "cell_type": "code",
      "source": [
        "import pandas as pd\n",
        "df = pd.read_csv('data_pelanggan.csv')\n",
        "df.head()"
      ],
      "metadata": {
        "colab": {
          "base_uri": "https://localhost:8080/",
          "height": 206
        },
        "id": "v32lsG6FxPlm",
        "outputId": "70964821-1fad-4194-d438-70a0302301ba"
      },
      "execution_count": 6,
      "outputs": [
        {
          "output_type": "execute_result",
          "data": {
            "text/plain": [
              "   umur  pendapatan  pembelian_tahunan    loyalitas\n",
              "0    58          77                  6  Tidak Loyal\n",
              "1    48          52                  8  Tidak Loyal\n",
              "2    34          91                  5  Tidak Loyal\n",
              "3    27         117                  4  Tidak Loyal\n",
              "4    40          66                  2  Tidak Loyal"
            ],
            "text/html": [
              "\n",
              "  <div id=\"df-5319e346-7151-41b4-99b3-5b9b98650723\" class=\"colab-df-container\">\n",
              "    <div>\n",
              "<style scoped>\n",
              "    .dataframe tbody tr th:only-of-type {\n",
              "        vertical-align: middle;\n",
              "    }\n",
              "\n",
              "    .dataframe tbody tr th {\n",
              "        vertical-align: top;\n",
              "    }\n",
              "\n",
              "    .dataframe thead th {\n",
              "        text-align: right;\n",
              "    }\n",
              "</style>\n",
              "<table border=\"1\" class=\"dataframe\">\n",
              "  <thead>\n",
              "    <tr style=\"text-align: right;\">\n",
              "      <th></th>\n",
              "      <th>umur</th>\n",
              "      <th>pendapatan</th>\n",
              "      <th>pembelian_tahunan</th>\n",
              "      <th>loyalitas</th>\n",
              "    </tr>\n",
              "  </thead>\n",
              "  <tbody>\n",
              "    <tr>\n",
              "      <th>0</th>\n",
              "      <td>58</td>\n",
              "      <td>77</td>\n",
              "      <td>6</td>\n",
              "      <td>Tidak Loyal</td>\n",
              "    </tr>\n",
              "    <tr>\n",
              "      <th>1</th>\n",
              "      <td>48</td>\n",
              "      <td>52</td>\n",
              "      <td>8</td>\n",
              "      <td>Tidak Loyal</td>\n",
              "    </tr>\n",
              "    <tr>\n",
              "      <th>2</th>\n",
              "      <td>34</td>\n",
              "      <td>91</td>\n",
              "      <td>5</td>\n",
              "      <td>Tidak Loyal</td>\n",
              "    </tr>\n",
              "    <tr>\n",
              "      <th>3</th>\n",
              "      <td>27</td>\n",
              "      <td>117</td>\n",
              "      <td>4</td>\n",
              "      <td>Tidak Loyal</td>\n",
              "    </tr>\n",
              "    <tr>\n",
              "      <th>4</th>\n",
              "      <td>40</td>\n",
              "      <td>66</td>\n",
              "      <td>2</td>\n",
              "      <td>Tidak Loyal</td>\n",
              "    </tr>\n",
              "  </tbody>\n",
              "</table>\n",
              "</div>\n",
              "    <div class=\"colab-df-buttons\">\n",
              "\n",
              "  <div class=\"colab-df-container\">\n",
              "    <button class=\"colab-df-convert\" onclick=\"convertToInteractive('df-5319e346-7151-41b4-99b3-5b9b98650723')\"\n",
              "            title=\"Convert this dataframe to an interactive table.\"\n",
              "            style=\"display:none;\">\n",
              "\n",
              "  <svg xmlns=\"http://www.w3.org/2000/svg\" height=\"24px\" viewBox=\"0 -960 960 960\">\n",
              "    <path d=\"M120-120v-720h720v720H120Zm60-500h600v-160H180v160Zm220 220h160v-160H400v160Zm0 220h160v-160H400v160ZM180-400h160v-160H180v160Zm440 0h160v-160H620v160ZM180-180h160v-160H180v160Zm440 0h160v-160H620v160Z\"/>\n",
              "  </svg>\n",
              "    </button>\n",
              "\n",
              "  <style>\n",
              "    .colab-df-container {\n",
              "      display:flex;\n",
              "      gap: 12px;\n",
              "    }\n",
              "\n",
              "    .colab-df-convert {\n",
              "      background-color: #E8F0FE;\n",
              "      border: none;\n",
              "      border-radius: 50%;\n",
              "      cursor: pointer;\n",
              "      display: none;\n",
              "      fill: #1967D2;\n",
              "      height: 32px;\n",
              "      padding: 0 0 0 0;\n",
              "      width: 32px;\n",
              "    }\n",
              "\n",
              "    .colab-df-convert:hover {\n",
              "      background-color: #E2EBFA;\n",
              "      box-shadow: 0px 1px 2px rgba(60, 64, 67, 0.3), 0px 1px 3px 1px rgba(60, 64, 67, 0.15);\n",
              "      fill: #174EA6;\n",
              "    }\n",
              "\n",
              "    .colab-df-buttons div {\n",
              "      margin-bottom: 4px;\n",
              "    }\n",
              "\n",
              "    [theme=dark] .colab-df-convert {\n",
              "      background-color: #3B4455;\n",
              "      fill: #D2E3FC;\n",
              "    }\n",
              "\n",
              "    [theme=dark] .colab-df-convert:hover {\n",
              "      background-color: #434B5C;\n",
              "      box-shadow: 0px 1px 3px 1px rgba(0, 0, 0, 0.15);\n",
              "      filter: drop-shadow(0px 1px 2px rgba(0, 0, 0, 0.3));\n",
              "      fill: #FFFFFF;\n",
              "    }\n",
              "  </style>\n",
              "\n",
              "    <script>\n",
              "      const buttonEl =\n",
              "        document.querySelector('#df-5319e346-7151-41b4-99b3-5b9b98650723 button.colab-df-convert');\n",
              "      buttonEl.style.display =\n",
              "        google.colab.kernel.accessAllowed ? 'block' : 'none';\n",
              "\n",
              "      async function convertToInteractive(key) {\n",
              "        const element = document.querySelector('#df-5319e346-7151-41b4-99b3-5b9b98650723');\n",
              "        const dataTable =\n",
              "          await google.colab.kernel.invokeFunction('convertToInteractive',\n",
              "                                                    [key], {});\n",
              "        if (!dataTable) return;\n",
              "\n",
              "        const docLinkHtml = 'Like what you see? Visit the ' +\n",
              "          '<a target=\"_blank\" href=https://colab.research.google.com/notebooks/data_table.ipynb>data table notebook</a>'\n",
              "          + ' to learn more about interactive tables.';\n",
              "        element.innerHTML = '';\n",
              "        dataTable['output_type'] = 'display_data';\n",
              "        await google.colab.output.renderOutput(dataTable, element);\n",
              "        const docLink = document.createElement('div');\n",
              "        docLink.innerHTML = docLinkHtml;\n",
              "        element.appendChild(docLink);\n",
              "      }\n",
              "    </script>\n",
              "  </div>\n",
              "\n",
              "\n",
              "    <div id=\"df-ab71628c-f79a-49ca-bc10-e10cc6d150dd\">\n",
              "      <button class=\"colab-df-quickchart\" onclick=\"quickchart('df-ab71628c-f79a-49ca-bc10-e10cc6d150dd')\"\n",
              "                title=\"Suggest charts\"\n",
              "                style=\"display:none;\">\n",
              "\n",
              "<svg xmlns=\"http://www.w3.org/2000/svg\" height=\"24px\"viewBox=\"0 0 24 24\"\n",
              "     width=\"24px\">\n",
              "    <g>\n",
              "        <path d=\"M19 3H5c-1.1 0-2 .9-2 2v14c0 1.1.9 2 2 2h14c1.1 0 2-.9 2-2V5c0-1.1-.9-2-2-2zM9 17H7v-7h2v7zm4 0h-2V7h2v10zm4 0h-2v-4h2v4z\"/>\n",
              "    </g>\n",
              "</svg>\n",
              "      </button>\n",
              "\n",
              "<style>\n",
              "  .colab-df-quickchart {\n",
              "      --bg-color: #E8F0FE;\n",
              "      --fill-color: #1967D2;\n",
              "      --hover-bg-color: #E2EBFA;\n",
              "      --hover-fill-color: #174EA6;\n",
              "      --disabled-fill-color: #AAA;\n",
              "      --disabled-bg-color: #DDD;\n",
              "  }\n",
              "\n",
              "  [theme=dark] .colab-df-quickchart {\n",
              "      --bg-color: #3B4455;\n",
              "      --fill-color: #D2E3FC;\n",
              "      --hover-bg-color: #434B5C;\n",
              "      --hover-fill-color: #FFFFFF;\n",
              "      --disabled-bg-color: #3B4455;\n",
              "      --disabled-fill-color: #666;\n",
              "  }\n",
              "\n",
              "  .colab-df-quickchart {\n",
              "    background-color: var(--bg-color);\n",
              "    border: none;\n",
              "    border-radius: 50%;\n",
              "    cursor: pointer;\n",
              "    display: none;\n",
              "    fill: var(--fill-color);\n",
              "    height: 32px;\n",
              "    padding: 0;\n",
              "    width: 32px;\n",
              "  }\n",
              "\n",
              "  .colab-df-quickchart:hover {\n",
              "    background-color: var(--hover-bg-color);\n",
              "    box-shadow: 0 1px 2px rgba(60, 64, 67, 0.3), 0 1px 3px 1px rgba(60, 64, 67, 0.15);\n",
              "    fill: var(--button-hover-fill-color);\n",
              "  }\n",
              "\n",
              "  .colab-df-quickchart-complete:disabled,\n",
              "  .colab-df-quickchart-complete:disabled:hover {\n",
              "    background-color: var(--disabled-bg-color);\n",
              "    fill: var(--disabled-fill-color);\n",
              "    box-shadow: none;\n",
              "  }\n",
              "\n",
              "  .colab-df-spinner {\n",
              "    border: 2px solid var(--fill-color);\n",
              "    border-color: transparent;\n",
              "    border-bottom-color: var(--fill-color);\n",
              "    animation:\n",
              "      spin 1s steps(1) infinite;\n",
              "  }\n",
              "\n",
              "  @keyframes spin {\n",
              "    0% {\n",
              "      border-color: transparent;\n",
              "      border-bottom-color: var(--fill-color);\n",
              "      border-left-color: var(--fill-color);\n",
              "    }\n",
              "    20% {\n",
              "      border-color: transparent;\n",
              "      border-left-color: var(--fill-color);\n",
              "      border-top-color: var(--fill-color);\n",
              "    }\n",
              "    30% {\n",
              "      border-color: transparent;\n",
              "      border-left-color: var(--fill-color);\n",
              "      border-top-color: var(--fill-color);\n",
              "      border-right-color: var(--fill-color);\n",
              "    }\n",
              "    40% {\n",
              "      border-color: transparent;\n",
              "      border-right-color: var(--fill-color);\n",
              "      border-top-color: var(--fill-color);\n",
              "    }\n",
              "    60% {\n",
              "      border-color: transparent;\n",
              "      border-right-color: var(--fill-color);\n",
              "    }\n",
              "    80% {\n",
              "      border-color: transparent;\n",
              "      border-right-color: var(--fill-color);\n",
              "      border-bottom-color: var(--fill-color);\n",
              "    }\n",
              "    90% {\n",
              "      border-color: transparent;\n",
              "      border-bottom-color: var(--fill-color);\n",
              "    }\n",
              "  }\n",
              "</style>\n",
              "\n",
              "      <script>\n",
              "        async function quickchart(key) {\n",
              "          const quickchartButtonEl =\n",
              "            document.querySelector('#' + key + ' button');\n",
              "          quickchartButtonEl.disabled = true;  // To prevent multiple clicks.\n",
              "          quickchartButtonEl.classList.add('colab-df-spinner');\n",
              "          try {\n",
              "            const charts = await google.colab.kernel.invokeFunction(\n",
              "                'suggestCharts', [key], {});\n",
              "          } catch (error) {\n",
              "            console.error('Error during call to suggestCharts:', error);\n",
              "          }\n",
              "          quickchartButtonEl.classList.remove('colab-df-spinner');\n",
              "          quickchartButtonEl.classList.add('colab-df-quickchart-complete');\n",
              "        }\n",
              "        (() => {\n",
              "          let quickchartButtonEl =\n",
              "            document.querySelector('#df-ab71628c-f79a-49ca-bc10-e10cc6d150dd button');\n",
              "          quickchartButtonEl.style.display =\n",
              "            google.colab.kernel.accessAllowed ? 'block' : 'none';\n",
              "        })();\n",
              "      </script>\n",
              "    </div>\n",
              "\n",
              "    </div>\n",
              "  </div>\n"
            ],
            "application/vnd.google.colaboratory.intrinsic+json": {
              "type": "dataframe",
              "variable_name": "df",
              "summary": "{\n  \"name\": \"df\",\n  \"rows\": 100,\n  \"fields\": [\n    {\n      \"column\": \"umur\",\n      \"properties\": {\n        \"dtype\": \"number\",\n        \"std\": 11,\n        \"min\": 20,\n        \"max\": 59,\n        \"num_unique_values\": 38,\n        \"samples\": [\n          53,\n          20,\n          40\n        ],\n        \"semantic_type\": \"\",\n        \"description\": \"\"\n      }\n    },\n    {\n      \"column\": \"pendapatan\",\n      \"properties\": {\n        \"dtype\": \"number\",\n        \"std\": 26,\n        \"min\": 30,\n        \"max\": 119,\n        \"num_unique_values\": 58,\n        \"samples\": [\n          77,\n          73,\n          95\n        ],\n        \"semantic_type\": \"\",\n        \"description\": \"\"\n      }\n    },\n    {\n      \"column\": \"pembelian_tahunan\",\n      \"properties\": {\n        \"dtype\": \"number\",\n        \"std\": 3,\n        \"min\": 1,\n        \"max\": 14,\n        \"num_unique_values\": 14,\n        \"samples\": [\n          13,\n          10,\n          6\n        ],\n        \"semantic_type\": \"\",\n        \"description\": \"\"\n      }\n    },\n    {\n      \"column\": \"loyalitas\",\n      \"properties\": {\n        \"dtype\": \"category\",\n        \"num_unique_values\": 2,\n        \"samples\": [\n          \"Loyal\",\n          \"Tidak Loyal\"\n        ],\n        \"semantic_type\": \"\",\n        \"description\": \"\"\n      }\n    }\n  ]\n}"
            }
          },
          "metadata": {},
          "execution_count": 6
        }
      ]
    },
    {
      "cell_type": "markdown",
      "source": [
        "-------------------------------------------------------------------------"
      ],
      "metadata": {
        "id": "2lg7TZcZ2pXk"
      }
    },
    {
      "cell_type": "markdown",
      "source": [
        "# **1. Preprocessing**"
      ],
      "metadata": {
        "id": "gXKPoHUfw4l5"
      }
    },
    {
      "cell_type": "markdown",
      "source": [
        "a. Ringkasan Statistik"
      ],
      "metadata": {
        "id": "gVhX26jZxAww"
      }
    },
    {
      "cell_type": "code",
      "source": [
        "print('\\nRingkasan Statistik : ')\n",
        "print(df.describe())"
      ],
      "metadata": {
        "colab": {
          "base_uri": "https://localhost:8080/"
        },
        "id": "CeNswqvSxEc-",
        "outputId": "40d5e26b-8fa1-4f48-f332-175619f7d458"
      },
      "execution_count": 7,
      "outputs": [
        {
          "output_type": "stream",
          "name": "stdout",
          "text": [
            "\n",
            "Ringkasan Statistik : \n",
            "             umur  pendapatan  pembelian_tahunan\n",
            "count  100.000000  100.000000         100.000000\n",
            "mean    38.790000   74.090000           6.660000\n",
            "std     11.556008   26.947797           3.929222\n",
            "min     20.000000   30.000000           1.000000\n",
            "25%     28.000000   55.250000           3.000000\n",
            "50%     39.500000   75.000000           6.000000\n",
            "75%     47.250000   92.500000           9.000000\n",
            "max     59.000000  119.000000          14.000000\n"
          ]
        }
      ]
    },
    {
      "cell_type": "markdown",
      "source": [
        "b. Visualisasi Hubungan Antara pendapatan dan pembelian_tahunan"
      ],
      "metadata": {
        "id": "gcQ1haSizCq7"
      }
    },
    {
      "cell_type": "code",
      "execution_count": 11,
      "metadata": {
        "colab": {
          "base_uri": "https://localhost:8080/",
          "height": 957
        },
        "id": "W5nVlyPQwZ2k",
        "outputId": "d821de72-6e14-408d-8bdf-1da2a7b74f6b"
      },
      "outputs": [
        {
          "output_type": "display_data",
          "data": {
            "text/plain": [
              "<Figure size 800x500 with 1 Axes>"
            ],
            "image/png": "[encoded data removed]"
          },
          "metadata": {}
        },
        {
          "output_type": "display_data",
          "data": {
            "text/plain": [
              "<Figure size 800x500 with 1 Axes>"
            ],
            "image/png": "[encoded data removed]"
          },
          "metadata": {}
        }
      ],
      "source": [
        "import seaborn as sns\n",
        "import matplotlib.pyplot as plt\n",
        "\n",
        "df['kategori_pendapatan'] = pd.cut(df['pendapatan'], bins=2, labels=['Loyal', 'Tidak Loyal'])\n",
        "\n",
        "plt.figure(figsize=(8, 5))\n",
        "sns.barplot(data=df, x='kategori_pendapatan', y='pembelian_tahunan')\n",
        "plt.title('Rata-rata Pembelian Tahunan per Kategori Pendapatan')\n",
        "plt.xlabel('Kategori Pendapatan')\n",
        "plt.ylabel('Pembelian Tahunan')\n",
        "plt.show()\n",
        "\n",
        "plt.figure(figsize=(8, 5))\n",
        "sns.scatterplot(data=df, x='pendapatan', y='pembelian_tahunan', hue='loyalitas')\n",
        "plt.title('Hubungan Pendapatan dan Pembelian Tahunan')\n",
        "plt.xlabel('Pendapatan')\n",
        "plt.ylabel('Pembelian Tahunan')\n",
        "plt.grid(True)\n",
        "plt.show()"
      ]
    },
    {
      "cell_type": "markdown",
      "source": [
        "-------------------------------------------------------------------------"
      ],
      "metadata": {
        "id": "zxgsrv3W2lzc"
      }
    },
    {
      "cell_type": "markdown",
      "source": [
        "# **2. Implementasi Algo**"
      ],
      "metadata": {
        "id": "hG_JTEo30Ykz"
      }
    },
    {
      "cell_type": "markdown",
      "source": [
        "**a. Decision Tree**"
      ],
      "metadata": {
        "id": "pHCrV0ls0t4Z"
      }
    },
    {
      "cell_type": "code",
      "source": [
        "from sklearn.model_selection import train_test_split\n",
        "from sklearn.tree import DecisionTreeClassifier\n",
        "from sklearn.metrics import classification_report, confusion_matrix, accuracy_score\n",
        "from sklearn.preprocessing import LabelEncoder\n",
        "\n",
        "le = LabelEncoder()\n",
        "df['loyalitas_encoded'] = le.fit_transform(df['loyalitas'])\n",
        "\n",
        "X = df[['umur', 'pendapatan', 'pembelian_tahunan']]\n",
        "y = df['loyalitas_encoded']\n",
        "\n",
        "X_train, X_test, y_train, y_test = train_test_split(X, y, test_size=0.2, random_state=42)\n",
        "\n",
        "model_tree = DecisionTreeClassifier(random_state=42)\n",
        "model_tree.fit(X_train, y_train)\n",
        "\n",
        "y_pred = model_tree.predict(X_test)\n",
        "\n",
        "print(\"Confusion Matrix:\")\n",
        "print(confusion_matrix(y_test, y_pred))\n",
        "\n",
        "print(\"\\nClassification Report:\")\n",
        "print(classification_report(y_test, y_pred, target_names=le.classes_))\n",
        "\n",
        "print(\"\\nAkurasi:\")\n",
        "print(f\"{accuracy_score(y_test, y_pred)*100:.2f}%\")"
      ],
      "metadata": {
        "colab": {
          "base_uri": "https://localhost:8080/"
        },
        "id": "Bhv9TU1J0y_n",
        "outputId": "76e48127-be9b-4929-9d20-ec2902f27242"
      },
      "execution_count": 12,
      "outputs": [
        {
          "output_type": "stream",
          "name": "stdout",
          "text": [
            "Confusion Matrix:\n",
            "[[ 6  0]\n",
            " [ 0 14]]\n",
            "\n",
            "Classification Report:\n",
            "              precision    recall  f1-score   support\n",
            "\n",
            "       Loyal       1.00      1.00      1.00         6\n",
            " Tidak Loyal       1.00      1.00      1.00        14\n",
            "\n",
            "    accuracy                           1.00        20\n",
            "   macro avg       1.00      1.00      1.00        20\n",
            "weighted avg       1.00      1.00      1.00        20\n",
            "\n",
            "\n",
            "Akurasi:\n",
            "100.00%\n"
          ]
        }
      ]
    },
    {
      "cell_type": "markdown",
      "source": [
        "**b. K-Nearest Neighbor (KNN)**"
      ],
      "metadata": {
        "id": "obY_v84j1VfM"
      }
    },
    {
      "cell_type": "code",
      "source": [
        "from sklearn.neighbors import KNeighborsClassifier\n",
        "\n",
        "X = df[['umur', 'pendapatan', 'pembelian_tahunan']]\n",
        "y = df['loyalitas_encoded']\n",
        "\n",
        "X_train, X_test, y_train, y_test = train_test_split(X, y, test_size=0.2, random_state=42)\n",
        "\n",
        "model_knn = KNeighborsClassifier(n_neighbors=5)\n",
        "model_knn.fit(X_train, y_train)\n",
        "\n",
        "y_pred_knn = model_knn.predict(X_test)\n",
        "\n",
        "print(\"Confusion Matrix:\")\n",
        "print(confusion_matrix(y_test, y_pred_knn))\n",
        "\n",
        "print(\"\\nClassification Report:\")\n",
        "print(classification_report(y_test, y_pred_knn, target_names=le.classes_))\n",
        "\n",
        "print(\"\\nAkurasi:\")\n",
        "print(f\"{accuracy_score(y_test, y_pred_knn)*100:.2f}%\")"
      ],
      "metadata": {
        "colab": {
          "base_uri": "https://localhost:8080/"
        },
        "id": "xZLF_r5C1eXW",
        "outputId": "3a94271f-6333-4eac-aad2-41d3f1712944"
      },
      "execution_count": 13,
      "outputs": [
        {
          "output_type": "stream",
          "name": "stdout",
          "text": [
            "Confusion Matrix:\n",
            "[[ 5  1]\n",
            " [ 2 12]]\n",
            "\n",
            "Classification Report:\n",
            "              precision    recall  f1-score   support\n",
            "\n",
            "       Loyal       0.71      0.83      0.77         6\n",
            " Tidak Loyal       0.92      0.86      0.89        14\n",
            "\n",
            "    accuracy                           0.85        20\n",
            "   macro avg       0.82      0.85      0.83        20\n",
            "weighted avg       0.86      0.85      0.85        20\n",
            "\n",
            "\n",
            "Akurasi:\n",
            "85.00%\n"
          ]
        }
      ]
    },
    {
      "cell_type": "markdown",
      "source": [
        "------------------------------------------------------------"
      ],
      "metadata": {
        "id": "35A2e5sR2eWY"
      }
    },
    {
      "cell_type": "markdown",
      "source": [
        "# **3. Analisis Perbandingan**"
      ],
      "metadata": {
        "id": "mh05emOP1uT-"
      }
    },
    {
      "cell_type": "markdown",
      "source": [
        "**a. Model Mana yang lebih akurat ?**"
      ],
      "metadata": {
        "id": "2FkOehf51-Gz"
      }
    },
    {
      "cell_type": "markdown",
      "source": [
        "Model\tAkurasi\n",
        "\n",
        "- Decision Tree\t100.00%\n",
        "- KNN (k=5)\t85.00%"
      ],
      "metadata": {
        "id": "3o84txNR2Fih"
      }
    },
    {
      "cell_type": "markdown",
      "source": [
        "**b. Apakah klasifikasi konsisten ?**"
      ],
      "metadata": {
        "id": "UvHGqaA_2TrF"
      }
    },
    {
      "cell_type": "markdown",
      "source": [
        "- Decision Tree menghasilkan akurasi 100% semua data terklasifikasi dengan benar (confusion matrix menunjukkan 0 kesalahan)\n",
        "\n",
        "- K-Nearest Neighbors (KNN) menghasilkan akurasi 85% ada 3 kesalahan klasifikasi (1 Loyal salah diklasifikasi sebagai Tidak Loyal, dan 2 Tidak Loyal salah diklasifikasi sebagai Loyal)\n",
        "\n",
        "Klasifikasi tidak konsisten, karena:\n",
        "\n",
        "1. Hasil klasifikasi berbeda tergantung algoritma (DT vs KNN)\n",
        "\n",
        "2. Dataset kecil meningkatkan risiko overfitting\n",
        "\n",
        "3. Perbedaan hasil menunjukkan bahwa hasil klasifikasi tidak stabil atau belum robust"
      ],
      "metadata": {
        "id": "-_LsAlFH2cym"
      }
    },
    {
      "cell_type": "markdown",
      "source": [
        "-------------------------------------------------------------------------"
      ],
      "metadata": {
        "id": "JIR7L8AU4LH-"
      }
    },
    {
      "cell_type": "markdown",
      "source": [
        "# **4. Kesimpulan**"
      ],
      "metadata": {
        "id": "6241U2JE4ZkD"
      }
    },
    {
      "cell_type": "markdown",
      "source": [
        "Berdasarkan hasil evaluasi model, Decision Tree (DT) menghasilkan akurasi yang lebih tinggi (100%) dibandingkan dengan K-Nearest Neighbors (KNN) yang hanya menghasilkan akurasi 85%. Hal ini menunjukkan bahwa DT lebih mampu memprediksi hasil dengan lebih akurat pada dataset ini\n",
        "\n",
        "1. Kekuatan dan Kelemahan Masing-Masing Model :\n",
        "\n",
        "Decision Tree (DT) :\n",
        "\n",
        "**- Kekuatan :**\n",
        "\n",
        "    Dapat menangani data dengan banyak fitur dan klasifikasi yang kompleks\n",
        "\n",
        "    Memberikan visualisasi pohon keputusan yang mudah dipahami\n",
        "\n",
        "    Lebih baik pada dataset yang memiliki banyak kategori atau cabang\n",
        "\n",
        "**- Kelemahan :**\n",
        "\n",
        "    Cenderung mengalami overfitting jika modelnya terlalu kompleks atau jika tidak dilakukan pruning\n",
        "\n",
        "    Lebih mudah terpengaruh oleh noise dalam data, yang bisa membuat model menjadi sangat spesifik terhadap data training\n",
        "\n",
        "K-Nearest Neighbors (KNN):\n",
        "\n",
        "**- Kekuatan :**\n",
        "\n",
        "    Mudah diimplementasikan dan digunakan, cocok untuk dataset yang tidak terlalu besar dan sederhana\n",
        "\n",
        "    Tidak memerlukan proses training panjang, hanya menyimpan data dan melakukan perhitungan jarak\n",
        "\n",
        "**- Kelemahan :**\n",
        "\n",
        "    Lambat pada dataset besar karena harus menghitung jarak ke semua data untuk setiap prediksi\n",
        "\n",
        "    Kurang efektif jika data memiliki banyak fitur (karena dimensionality curse), yang membuat pengukuran jarak menjadi kurang akurat\n",
        "\n",
        "    Cenderung kurang efektif pada data dengan banyak kategori karena kesulitan dalam memilih tetangga yang relevan\n",
        "\n",
        "2. Faktor yang Mempengaruhi Perbedaan Kinerja :\n",
        "\n",
        "- Jumlah Fitur : Decision Tree lebih efektif dengan banyak fitur atau kategori karena dapat memilih fitur yang paling relevan. Sedangkan KNN bisa kesulitan dengan data yang memiliki banyak fitur, karena pengukuran jarak menjadi tidak akurat saat fitur meningkat\n",
        "\n",
        "- Jumlah Data : Decision Tree bekerja baik pada data yang lebih besar, namun bisa overfit jika data terlalu kompleks. KNN lebih cocok untuk data kecil hingga menengah karena semakin banyak data, semakin lama waktu prediksinya\n",
        "\n",
        "- Keakuratan Model : Decision Tree secara keseluruhan lebih akurat pada dataset ini karena lebih mampu menangani banyak kategori dan variabel, sedangkan KNN lebih sensitif terhadap noise dan kesulitan dengan data yang terlalu beragam\n"
      ],
      "metadata": {
        "id": "Ad42cJ2U4dmD"
      }
    }
  ]
}